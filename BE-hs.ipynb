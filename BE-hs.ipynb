{
 "cells": [
  {
   "cell_type": "markdown",
   "metadata": {},
   "source": [
    "# Data exploration"
   ]
  },
  {
   "cell_type": "code",
   "execution_count": 1,
   "metadata": {},
   "outputs": [],
   "source": [
    "import numpy as np\n",
    "import pandas as pd\n",
    "import matplotlib.pyplot as plt\n",
    "%matplotlib inline"
   ]
  },
  {
   "cell_type": "code",
   "execution_count": 2,
   "metadata": {},
   "outputs": [
    {
     "data": {
      "text/html": [
       "<div>\n",
       "<style scoped>\n",
       "    .dataframe tbody tr th:only-of-type {\n",
       "        vertical-align: middle;\n",
       "    }\n",
       "\n",
       "    .dataframe tbody tr th {\n",
       "        vertical-align: top;\n",
       "    }\n",
       "\n",
       "    .dataframe thead th {\n",
       "        text-align: right;\n",
       "    }\n",
       "</style>\n",
       "<table border=\"1\" class=\"dataframe\">\n",
       "  <thead>\n",
       "    <tr style=\"text-align: right;\">\n",
       "      <th></th>\n",
       "      <th>day_cycle_window</th>\n",
       "      <th>p1</th>\n",
       "      <th>p2</th>\n",
       "      <th>p3</th>\n",
       "      <th>p4</th>\n",
       "      <th>p5</th>\n",
       "      <th>p6</th>\n",
       "      <th>p7</th>\n",
       "      <th>p8</th>\n",
       "      <th>p9</th>\n",
       "      <th>p10</th>\n",
       "      <th>p11</th>\n",
       "    </tr>\n",
       "  </thead>\n",
       "  <tbody>\n",
       "    <tr>\n",
       "      <th>0</th>\n",
       "      <td>1_1_1</td>\n",
       "      <td>-0.805191</td>\n",
       "      <td>-1.141993</td>\n",
       "      <td>-1.328327</td>\n",
       "      <td>-1.516693</td>\n",
       "      <td>-1.373962</td>\n",
       "      <td>-0.80827</td>\n",
       "      <td>-1.070547</td>\n",
       "      <td>-0.504352</td>\n",
       "      <td>2.807146</td>\n",
       "      <td>0.495528</td>\n",
       "      <td>-1.246737</td>\n",
       "    </tr>\n",
       "    <tr>\n",
       "      <th>1</th>\n",
       "      <td>1_1_1</td>\n",
       "      <td>-0.805191</td>\n",
       "      <td>-1.134902</td>\n",
       "      <td>-1.320393</td>\n",
       "      <td>-1.505848</td>\n",
       "      <td>-1.361560</td>\n",
       "      <td>-0.80784</td>\n",
       "      <td>-1.064212</td>\n",
       "      <td>-0.516000</td>\n",
       "      <td>2.894177</td>\n",
       "      <td>0.494467</td>\n",
       "      <td>-1.244472</td>\n",
       "    </tr>\n",
       "    <tr>\n",
       "      <th>2</th>\n",
       "      <td>1_1_1</td>\n",
       "      <td>-0.805191</td>\n",
       "      <td>-1.117304</td>\n",
       "      <td>-1.307167</td>\n",
       "      <td>-1.505848</td>\n",
       "      <td>-1.361560</td>\n",
       "      <td>-0.80784</td>\n",
       "      <td>-1.064212</td>\n",
       "      <td>-0.516000</td>\n",
       "      <td>2.981904</td>\n",
       "      <td>0.429370</td>\n",
       "      <td>-1.244472</td>\n",
       "    </tr>\n",
       "    <tr>\n",
       "      <th>3</th>\n",
       "      <td>1_1_1</td>\n",
       "      <td>-0.814231</td>\n",
       "      <td>-1.114206</td>\n",
       "      <td>-1.287593</td>\n",
       "      <td>-1.442302</td>\n",
       "      <td>-1.287565</td>\n",
       "      <td>-0.80784</td>\n",
       "      <td>-1.045557</td>\n",
       "      <td>-0.516000</td>\n",
       "      <td>3.063298</td>\n",
       "      <td>0.348056</td>\n",
       "      <td>-1.244472</td>\n",
       "    </tr>\n",
       "    <tr>\n",
       "      <th>4</th>\n",
       "      <td>1_1_1</td>\n",
       "      <td>-0.848104</td>\n",
       "      <td>-1.112276</td>\n",
       "      <td>-1.285393</td>\n",
       "      <td>-1.429076</td>\n",
       "      <td>-1.270722</td>\n",
       "      <td>-0.80784</td>\n",
       "      <td>-1.017575</td>\n",
       "      <td>-0.664906</td>\n",
       "      <td>3.049237</td>\n",
       "      <td>0.118828</td>\n",
       "      <td>-1.270237</td>\n",
       "    </tr>\n",
       "  </tbody>\n",
       "</table>\n",
       "</div>"
      ],
      "text/plain": [
       "  day_cycle_window        p1        p2        p3        p4        p5       p6  \\\n",
       "0            1_1_1 -0.805191 -1.141993 -1.328327 -1.516693 -1.373962 -0.80827   \n",
       "1            1_1_1 -0.805191 -1.134902 -1.320393 -1.505848 -1.361560 -0.80784   \n",
       "2            1_1_1 -0.805191 -1.117304 -1.307167 -1.505848 -1.361560 -0.80784   \n",
       "3            1_1_1 -0.814231 -1.114206 -1.287593 -1.442302 -1.287565 -0.80784   \n",
       "4            1_1_1 -0.848104 -1.112276 -1.285393 -1.429076 -1.270722 -0.80784   \n",
       "\n",
       "         p7        p8        p9       p10       p11  \n",
       "0 -1.070547 -0.504352  2.807146  0.495528 -1.246737  \n",
       "1 -1.064212 -0.516000  2.894177  0.494467 -1.244472  \n",
       "2 -1.064212 -0.516000  2.981904  0.429370 -1.244472  \n",
       "3 -1.045557 -0.516000  3.063298  0.348056 -1.244472  \n",
       "4 -1.017575 -0.664906  3.049237  0.118828 -1.270237  "
      ]
     },
     "execution_count": 2,
     "metadata": {},
     "output_type": "execute_result"
    }
   ],
   "source": [
    "# Read dataset\n",
    "df = pd.read_csv('dataset.csv')\n",
    "df.head()"
   ]
  },
  {
   "cell_type": "code",
   "execution_count": 3,
   "metadata": {},
   "outputs": [
    {
     "data": {
      "text/plain": [
       "(162702, 11)"
      ]
     },
     "execution_count": 3,
     "metadata": {},
     "output_type": "execute_result"
    }
   ],
   "source": [
    "data = df.values[:,1:]   # data of 11 parameters\n",
    "data.shape"
   ]
  },
  {
   "cell_type": "code",
   "execution_count": 4,
   "metadata": {
    "scrolled": true
   },
   "outputs": [
    {
     "data": {
      "text/html": [
       "<div>\n",
       "<style scoped>\n",
       "    .dataframe tbody tr th:only-of-type {\n",
       "        vertical-align: middle;\n",
       "    }\n",
       "\n",
       "    .dataframe tbody tr th {\n",
       "        vertical-align: top;\n",
       "    }\n",
       "\n",
       "    .dataframe thead tr th {\n",
       "        text-align: left;\n",
       "    }\n",
       "\n",
       "    .dataframe thead tr:last-of-type th {\n",
       "        text-align: right;\n",
       "    }\n",
       "</style>\n",
       "<table border=\"1\" class=\"dataframe\">\n",
       "  <thead>\n",
       "    <tr>\n",
       "      <th></th>\n",
       "      <th colspan=\"8\" halign=\"left\">p1</th>\n",
       "      <th colspan=\"2\" halign=\"left\">p2</th>\n",
       "      <th>...</th>\n",
       "      <th colspan=\"2\" halign=\"left\">p10</th>\n",
       "      <th colspan=\"8\" halign=\"left\">p11</th>\n",
       "    </tr>\n",
       "    <tr>\n",
       "      <th></th>\n",
       "      <th>count</th>\n",
       "      <th>mean</th>\n",
       "      <th>std</th>\n",
       "      <th>min</th>\n",
       "      <th>25%</th>\n",
       "      <th>50%</th>\n",
       "      <th>75%</th>\n",
       "      <th>max</th>\n",
       "      <th>count</th>\n",
       "      <th>mean</th>\n",
       "      <th>...</th>\n",
       "      <th>75%</th>\n",
       "      <th>max</th>\n",
       "      <th>count</th>\n",
       "      <th>mean</th>\n",
       "      <th>std</th>\n",
       "      <th>min</th>\n",
       "      <th>25%</th>\n",
       "      <th>50%</th>\n",
       "      <th>75%</th>\n",
       "      <th>max</th>\n",
       "    </tr>\n",
       "    <tr>\n",
       "      <th>day_cycle_window</th>\n",
       "      <th></th>\n",
       "      <th></th>\n",
       "      <th></th>\n",
       "      <th></th>\n",
       "      <th></th>\n",
       "      <th></th>\n",
       "      <th></th>\n",
       "      <th></th>\n",
       "      <th></th>\n",
       "      <th></th>\n",
       "      <th></th>\n",
       "      <th></th>\n",
       "      <th></th>\n",
       "      <th></th>\n",
       "      <th></th>\n",
       "      <th></th>\n",
       "      <th></th>\n",
       "      <th></th>\n",
       "      <th></th>\n",
       "      <th></th>\n",
       "      <th></th>\n",
       "    </tr>\n",
       "  </thead>\n",
       "  <tbody>\n",
       "    <tr>\n",
       "      <th>1_1_1</th>\n",
       "      <td>100.0</td>\n",
       "      <td>-1.926141</td>\n",
       "      <td>0.591155</td>\n",
       "      <td>-3.107670</td>\n",
       "      <td>-2.338262</td>\n",
       "      <td>-1.849016</td>\n",
       "      <td>-1.582460</td>\n",
       "      <td>-0.805191</td>\n",
       "      <td>100.0</td>\n",
       "      <td>-2.456284</td>\n",
       "      <td>...</td>\n",
       "      <td>-0.838175</td>\n",
       "      <td>0.495528</td>\n",
       "      <td>100.0</td>\n",
       "      <td>-2.500060</td>\n",
       "      <td>0.724468</td>\n",
       "      <td>-3.183571</td>\n",
       "      <td>-3.136979</td>\n",
       "      <td>-2.857906</td>\n",
       "      <td>-1.674682</td>\n",
       "      <td>-1.244472</td>\n",
       "    </tr>\n",
       "    <tr>\n",
       "      <th>1_1_10</th>\n",
       "      <td>100.0</td>\n",
       "      <td>1.204735</td>\n",
       "      <td>0.245958</td>\n",
       "      <td>0.900633</td>\n",
       "      <td>0.982340</td>\n",
       "      <td>1.118294</td>\n",
       "      <td>1.445828</td>\n",
       "      <td>1.582127</td>\n",
       "      <td>100.0</td>\n",
       "      <td>1.123558</td>\n",
       "      <td>...</td>\n",
       "      <td>-0.081825</td>\n",
       "      <td>-0.070064</td>\n",
       "      <td>100.0</td>\n",
       "      <td>1.016565</td>\n",
       "      <td>0.211292</td>\n",
       "      <td>0.807778</td>\n",
       "      <td>0.863262</td>\n",
       "      <td>0.916551</td>\n",
       "      <td>1.102858</td>\n",
       "      <td>1.437874</td>\n",
       "    </tr>\n",
       "    <tr>\n",
       "      <th>1_1_11</th>\n",
       "      <td>100.0</td>\n",
       "      <td>0.742475</td>\n",
       "      <td>0.133627</td>\n",
       "      <td>0.486868</td>\n",
       "      <td>0.619690</td>\n",
       "      <td>0.800962</td>\n",
       "      <td>0.854041</td>\n",
       "      <td>0.900633</td>\n",
       "      <td>100.0</td>\n",
       "      <td>0.703459</td>\n",
       "      <td>...</td>\n",
       "      <td>-0.083785</td>\n",
       "      <td>-0.075944</td>\n",
       "      <td>100.0</td>\n",
       "      <td>0.669938</td>\n",
       "      <td>0.121043</td>\n",
       "      <td>0.450576</td>\n",
       "      <td>0.552634</td>\n",
       "      <td>0.722549</td>\n",
       "      <td>0.772280</td>\n",
       "      <td>0.807778</td>\n",
       "    </tr>\n",
       "    <tr>\n",
       "      <th>1_1_12</th>\n",
       "      <td>100.0</td>\n",
       "      <td>0.300162</td>\n",
       "      <td>0.089126</td>\n",
       "      <td>0.169069</td>\n",
       "      <td>0.228873</td>\n",
       "      <td>0.290764</td>\n",
       "      <td>0.362420</td>\n",
       "      <td>0.486868</td>\n",
       "      <td>100.0</td>\n",
       "      <td>0.289058</td>\n",
       "      <td>...</td>\n",
       "      <td>-0.078885</td>\n",
       "      <td>-0.068104</td>\n",
       "      <td>100.0</td>\n",
       "      <td>0.303699</td>\n",
       "      <td>0.068842</td>\n",
       "      <td>0.208743</td>\n",
       "      <td>0.250897</td>\n",
       "      <td>0.293052</td>\n",
       "      <td>0.342649</td>\n",
       "      <td>0.450576</td>\n",
       "    </tr>\n",
       "    <tr>\n",
       "      <th>1_1_13</th>\n",
       "      <td>100.0</td>\n",
       "      <td>0.140935</td>\n",
       "      <td>0.006691</td>\n",
       "      <td>0.137776</td>\n",
       "      <td>0.137776</td>\n",
       "      <td>0.137776</td>\n",
       "      <td>0.139862</td>\n",
       "      <td>0.161408</td>\n",
       "      <td>100.0</td>\n",
       "      <td>0.152487</td>\n",
       "      <td>...</td>\n",
       "      <td>-0.080845</td>\n",
       "      <td>-0.070064</td>\n",
       "      <td>100.0</td>\n",
       "      <td>0.186059</td>\n",
       "      <td>0.005184</td>\n",
       "      <td>0.179901</td>\n",
       "      <td>0.182119</td>\n",
       "      <td>0.182156</td>\n",
       "      <td>0.190994</td>\n",
       "      <td>0.197741</td>\n",
       "    </tr>\n",
       "    <tr>\n",
       "      <th>...</th>\n",
       "      <td>...</td>\n",
       "      <td>...</td>\n",
       "      <td>...</td>\n",
       "      <td>...</td>\n",
       "      <td>...</td>\n",
       "      <td>...</td>\n",
       "      <td>...</td>\n",
       "      <td>...</td>\n",
       "      <td>...</td>\n",
       "      <td>...</td>\n",
       "      <td>...</td>\n",
       "      <td>...</td>\n",
       "      <td>...</td>\n",
       "      <td>...</td>\n",
       "      <td>...</td>\n",
       "      <td>...</td>\n",
       "      <td>...</td>\n",
       "      <td>...</td>\n",
       "      <td>...</td>\n",
       "      <td>...</td>\n",
       "      <td>...</td>\n",
       "    </tr>\n",
       "    <tr>\n",
       "      <th>4_4_95</th>\n",
       "      <td>100.0</td>\n",
       "      <td>-0.372836</td>\n",
       "      <td>0.024870</td>\n",
       "      <td>-0.421584</td>\n",
       "      <td>-0.388726</td>\n",
       "      <td>-0.368190</td>\n",
       "      <td>-0.357448</td>\n",
       "      <td>-0.332488</td>\n",
       "      <td>100.0</td>\n",
       "      <td>0.141482</td>\n",
       "      <td>...</td>\n",
       "      <td>0.720501</td>\n",
       "      <td>0.727679</td>\n",
       "      <td>100.0</td>\n",
       "      <td>-0.683516</td>\n",
       "      <td>0.015195</td>\n",
       "      <td>-0.709847</td>\n",
       "      <td>-0.695653</td>\n",
       "      <td>-0.689974</td>\n",
       "      <td>-0.667265</td>\n",
       "      <td>-0.656346</td>\n",
       "    </tr>\n",
       "    <tr>\n",
       "      <th>4_4_96</th>\n",
       "      <td>100.0</td>\n",
       "      <td>-0.422993</td>\n",
       "      <td>0.039166</td>\n",
       "      <td>-0.460128</td>\n",
       "      <td>-0.451282</td>\n",
       "      <td>-0.451282</td>\n",
       "      <td>-0.410807</td>\n",
       "      <td>-0.346390</td>\n",
       "      <td>100.0</td>\n",
       "      <td>0.074675</td>\n",
       "      <td>...</td>\n",
       "      <td>0.179593</td>\n",
       "      <td>0.720501</td>\n",
       "      <td>100.0</td>\n",
       "      <td>-0.722753</td>\n",
       "      <td>0.039959</td>\n",
       "      <td>-0.762255</td>\n",
       "      <td>-0.744785</td>\n",
       "      <td>-0.736051</td>\n",
       "      <td>-0.730592</td>\n",
       "      <td>-0.632326</td>\n",
       "    </tr>\n",
       "    <tr>\n",
       "      <th>4_4_97</th>\n",
       "      <td>100.0</td>\n",
       "      <td>-0.453629</td>\n",
       "      <td>0.018503</td>\n",
       "      <td>-0.491722</td>\n",
       "      <td>-0.460760</td>\n",
       "      <td>-0.453810</td>\n",
       "      <td>-0.449070</td>\n",
       "      <td>-0.412737</td>\n",
       "      <td>100.0</td>\n",
       "      <td>0.040768</td>\n",
       "      <td>...</td>\n",
       "      <td>0.172520</td>\n",
       "      <td>0.183183</td>\n",
       "      <td>100.0</td>\n",
       "      <td>-0.741979</td>\n",
       "      <td>0.006298</td>\n",
       "      <td>-0.756796</td>\n",
       "      <td>-0.746969</td>\n",
       "      <td>-0.741510</td>\n",
       "      <td>-0.739599</td>\n",
       "      <td>-0.731683</td>\n",
       "    </tr>\n",
       "    <tr>\n",
       "      <th>4_4_98</th>\n",
       "      <td>100.0</td>\n",
       "      <td>-0.496385</td>\n",
       "      <td>0.027789</td>\n",
       "      <td>-0.527740</td>\n",
       "      <td>-0.515734</td>\n",
       "      <td>-0.504360</td>\n",
       "      <td>-0.483152</td>\n",
       "      <td>-0.430298</td>\n",
       "      <td>100.0</td>\n",
       "      <td>0.077945</td>\n",
       "      <td>...</td>\n",
       "      <td>0.169853</td>\n",
       "      <td>0.176518</td>\n",
       "      <td>100.0</td>\n",
       "      <td>-0.652738</td>\n",
       "      <td>0.054358</td>\n",
       "      <td>-0.740418</td>\n",
       "      <td>-0.714214</td>\n",
       "      <td>-0.634510</td>\n",
       "      <td>-0.612673</td>\n",
       "      <td>-0.565724</td>\n",
       "    </tr>\n",
       "    <tr>\n",
       "      <th>4_4_99</th>\n",
       "      <td>100.0</td>\n",
       "      <td>-0.498456</td>\n",
       "      <td>0.015669</td>\n",
       "      <td>-0.519841</td>\n",
       "      <td>-0.514470</td>\n",
       "      <td>-0.498989</td>\n",
       "      <td>-0.488405</td>\n",
       "      <td>-0.465499</td>\n",
       "      <td>100.0</td>\n",
       "      <td>0.093287</td>\n",
       "      <td>...</td>\n",
       "      <td>-1.062697</td>\n",
       "      <td>-1.059621</td>\n",
       "      <td>100.0</td>\n",
       "      <td>-0.491415</td>\n",
       "      <td>0.021494</td>\n",
       "      <td>-0.565724</td>\n",
       "      <td>-0.499960</td>\n",
       "      <td>-0.479468</td>\n",
       "      <td>-0.476193</td>\n",
       "      <td>-0.472917</td>\n",
       "    </tr>\n",
       "  </tbody>\n",
       "</table>\n",
       "<p>1637 rows × 88 columns</p>\n",
       "</div>"
      ],
      "text/plain": [
       "                     p1                                                    \\\n",
       "                  count      mean       std       min       25%       50%   \n",
       "day_cycle_window                                                            \n",
       "1_1_1             100.0 -1.926141  0.591155 -3.107670 -2.338262 -1.849016   \n",
       "1_1_10            100.0  1.204735  0.245958  0.900633  0.982340  1.118294   \n",
       "1_1_11            100.0  0.742475  0.133627  0.486868  0.619690  0.800962   \n",
       "1_1_12            100.0  0.300162  0.089126  0.169069  0.228873  0.290764   \n",
       "1_1_13            100.0  0.140935  0.006691  0.137776  0.137776  0.137776   \n",
       "...                 ...       ...       ...       ...       ...       ...   \n",
       "4_4_95            100.0 -0.372836  0.024870 -0.421584 -0.388726 -0.368190   \n",
       "4_4_96            100.0 -0.422993  0.039166 -0.460128 -0.451282 -0.451282   \n",
       "4_4_97            100.0 -0.453629  0.018503 -0.491722 -0.460760 -0.453810   \n",
       "4_4_98            100.0 -0.496385  0.027789 -0.527740 -0.515734 -0.504360   \n",
       "4_4_99            100.0 -0.498456  0.015669 -0.519841 -0.514470 -0.498989   \n",
       "\n",
       "                                         p2            ...       p10  \\\n",
       "                       75%       max  count      mean  ...       75%   \n",
       "day_cycle_window                                       ...             \n",
       "1_1_1            -1.582460 -0.805191  100.0 -2.456284  ... -0.838175   \n",
       "1_1_10            1.445828  1.582127  100.0  1.123558  ... -0.081825   \n",
       "1_1_11            0.854041  0.900633  100.0  0.703459  ... -0.083785   \n",
       "1_1_12            0.362420  0.486868  100.0  0.289058  ... -0.078885   \n",
       "1_1_13            0.139862  0.161408  100.0  0.152487  ... -0.080845   \n",
       "...                    ...       ...    ...       ...  ...       ...   \n",
       "4_4_95           -0.357448 -0.332488  100.0  0.141482  ...  0.720501   \n",
       "4_4_96           -0.410807 -0.346390  100.0  0.074675  ...  0.179593   \n",
       "4_4_97           -0.449070 -0.412737  100.0  0.040768  ...  0.172520   \n",
       "4_4_98           -0.483152 -0.430298  100.0  0.077945  ...  0.169853   \n",
       "4_4_99           -0.488405 -0.465499  100.0  0.093287  ... -1.062697   \n",
       "\n",
       "                              p11                                          \\\n",
       "                       max  count      mean       std       min       25%   \n",
       "day_cycle_window                                                            \n",
       "1_1_1             0.495528  100.0 -2.500060  0.724468 -3.183571 -3.136979   \n",
       "1_1_10           -0.070064  100.0  1.016565  0.211292  0.807778  0.863262   \n",
       "1_1_11           -0.075944  100.0  0.669938  0.121043  0.450576  0.552634   \n",
       "1_1_12           -0.068104  100.0  0.303699  0.068842  0.208743  0.250897   \n",
       "1_1_13           -0.070064  100.0  0.186059  0.005184  0.179901  0.182119   \n",
       "...                    ...    ...       ...       ...       ...       ...   \n",
       "4_4_95            0.727679  100.0 -0.683516  0.015195 -0.709847 -0.695653   \n",
       "4_4_96            0.720501  100.0 -0.722753  0.039959 -0.762255 -0.744785   \n",
       "4_4_97            0.183183  100.0 -0.741979  0.006298 -0.756796 -0.746969   \n",
       "4_4_98            0.176518  100.0 -0.652738  0.054358 -0.740418 -0.714214   \n",
       "4_4_99           -1.059621  100.0 -0.491415  0.021494 -0.565724 -0.499960   \n",
       "\n",
       "                                                \n",
       "                       50%       75%       max  \n",
       "day_cycle_window                                \n",
       "1_1_1            -2.857906 -1.674682 -1.244472  \n",
       "1_1_10            0.916551  1.102858  1.437874  \n",
       "1_1_11            0.722549  0.772280  0.807778  \n",
       "1_1_12            0.293052  0.342649  0.450576  \n",
       "1_1_13            0.182156  0.190994  0.197741  \n",
       "...                    ...       ...       ...  \n",
       "4_4_95           -0.689974 -0.667265 -0.656346  \n",
       "4_4_96           -0.736051 -0.730592 -0.632326  \n",
       "4_4_97           -0.741510 -0.739599 -0.731683  \n",
       "4_4_98           -0.634510 -0.612673 -0.565724  \n",
       "4_4_99           -0.479468 -0.476193 -0.472917  \n",
       "\n",
       "[1637 rows x 88 columns]"
      ]
     },
     "execution_count": 4,
     "metadata": {},
     "output_type": "execute_result"
    }
   ],
   "source": [
    "df.groupby([\"day_cycle_window\"]).describe()"
   ]
  },
  {
   "cell_type": "code",
   "execution_count": 14,
   "metadata": {
    "scrolled": true
   },
   "outputs": [
    {
     "data": {
      "image/png": "[encoded data removed]",
      "text/plain": [
       "<Figure size 432x288 with 1 Axes>"
      ]
     },
     "metadata": {
      "needs_background": "light"
     },
     "output_type": "display_data"
    },
    {
     "data": {
      "image/png": "[encoded data removed]",
      "text/plain": [
       "<Figure size 432x288 with 1 Axes>"
      ]
     },
     "metadata": {
      "needs_background": "light"
     },
     "output_type": "display_data"
    },
    {
     "data": {
      "image/png": "[encoded data removed]",
      "text/plain": [
       "<Figure size 432x288 with 1 Axes>"
      ]
     },
     "metadata": {
      "needs_background": "light"
     },
     "output_type": "display_data"
    },
    {
     "data": {
      "image/png": "[encoded data removed]",
      "text/plain": [
       "<Figure size 432x288 with 1 Axes>"
      ]
     },
     "metadata": {
      "needs_background": "light"
     },
     "output_type": "display_data"
    },
    {
     "data": {
      "image/png": "[encoded data removed]",
      "text/plain": [
       "<Figure size 432x288 with 1 Axes>"
      ]
     },
     "metadata": {
      "needs_background": "light"
     },
     "output_type": "display_data"
    },
    {
     "data": {
      "image/png": "[encoded data removed]",
      "text/plain": [
       "<Figure size 432x288 with 1 Axes>"
      ]
     },
     "metadata": {
      "needs_background": "light"
     },
     "output_type": "display_data"
    },
    {
     "data": {
      "image/png": "[encoded data removed]",
      "text/plain": [
       "<Figure size 432x288 with 1 Axes>"
      ]
     },
     "metadata": {
      "needs_background": "light"
     },
     "output_type": "display_data"
    },
    {
     "data": {
      "image/png": "[encoded data removed]",
      "text/plain": [
       "<Figure size 432x288 with 1 Axes>"
      ]
     },
     "metadata": {
      "needs_background": "light"
     },
     "output_type": "display_data"
    },
    {
     "data": {
      "image/png": "[encoded data removed]",
      "text/plain": [
       "<Figure size 432x288 with 1 Axes>"
      ]
     },
     "metadata": {
      "needs_background": "light"
     },
     "output_type": "display_data"
    },
    {
     "data": {
      "image/png": "[encoded data removed]",
      "text/plain": [
       "<Figure size 432x288 with 1 Axes>"
      ]
     },
     "metadata": {
      "needs_background": "light"
     },
     "output_type": "display_data"
    },
    {
     "data": {
      "image/png": "[encoded data removed]",
      "text/plain": [
       "<Figure size 432x288 with 1 Axes>"
      ]
     },
     "metadata": {
      "needs_background": "light"
     },
     "output_type": "display_data"
    }
   ],
   "source": [
    "# Scatter plot\n",
    "for p in ['p1','p2','p3','p4','p5','p6','p7','p8','p9','p10','p11']:\n",
    "    plt.figure()\n",
    "    plt.plot(df[p], [0]*len(df), 'bo')"
   ]
  },
  {
   "cell_type": "markdown",
   "metadata": {},
   "source": [
    "# Useful functions for plot"
   ]
  },
  {
   "cell_type": "code",
   "execution_count": 174,
   "metadata": {},
   "outputs": [],
   "source": [
    "def plotAnomalies2D(df, clf_name, clf):\n",
    "    \"\"\"\n",
    "        df: Pandas DataFrame containing all the points to plot (for features X1 and X2)\n",
    "        clf_name: String value - name of the outlier detection model\n",
    "        clf: Scikit Learn model instance - the trained outlier detection model\n",
    "    \"\"\"\n",
    "    plt.figure()\n",
    "    plt.plot(df['X1'],df['X2'], 'o')\n",
    "    plt.xlabel('X1')\n",
    "    plt.ylabel('X2')\n",
    "    plt.xlim([df['X1'].min()-3,df['X1'].max()+3])\n",
    "    plt.ylim([df['X2'].min()-3,df['X2'].max()+3])\n",
    "    plt.title(clf_name)\n",
    "    \n",
    "    if clf_name == 'LOF':\n",
    "        ypred = clf.fit_predict(df[['X1','X2']])\n",
    "        plt.plot(df['X1'][ypred==-1],df['X2'][ypred==-1],'ro')\n",
    "    else:\n",
    "        xx, yy = np.meshgrid(np.linspace(df['X1'].min()-3,df['X1'].max()+3, 500), np.linspace(df['X2'].min()-3,df['X2'].max()+3, 500))\n",
    "        Z = clf.decision_function(np.c_[xx.ravel(), yy.ravel()])\n",
    "        Z = Z.reshape(xx.shape)\n",
    "        plt.contour(xx, yy, Z, levels=[0], linewidths=2, colors='r')"
   ]
  },
  {
   "cell_type": "code",
   "execution_count": 175,
   "metadata": {},
   "outputs": [],
   "source": [
    "def plotAnomalyScore2D(df, clf_name, clf):\n",
    "    \"\"\"\n",
    "        df: Pandas DataFrame containing all the points to plot (for features X1 and X2)\n",
    "        clf_name: String value - name of the outlier detection model\n",
    "        clf: Scikit Learn model instance - the trained outlier detection model\n",
    "    \"\"\"\n",
    "    if clf_name == 'LOF':\n",
    "        score = clf.negative_outlier_factor_\n",
    "    else:\n",
    "        score = clf.decision_function(df[['X1','X2']])\n",
    "    \n",
    "    plt.figure()\n",
    "    sc = plt.scatter(x=df['X1'],y=df['X2'], c=-score, cmap='Reds')\n",
    "    plt.colorbar(sc, label='anomaly score')\n",
    "    plt.xlabel('X1')\n",
    "    plt.ylabel('X2')\n",
    "    plt.title(clf_name)"
   ]
  },
  {
   "cell_type": "markdown",
   "metadata": {},
   "source": [
    "# Three statistical variables"
   ]
  },
  {
   "cell_type": "code",
   "execution_count": 5,
   "metadata": {},
   "outputs": [
    {
     "data": {
      "text/html": [
       "<div>\n",
       "<style scoped>\n",
       "    .dataframe tbody tr th:only-of-type {\n",
       "        vertical-align: middle;\n",
       "    }\n",
       "\n",
       "    .dataframe tbody tr th {\n",
       "        vertical-align: top;\n",
       "    }\n",
       "\n",
       "    .dataframe thead th {\n",
       "        text-align: right;\n",
       "    }\n",
       "</style>\n",
       "<table border=\"1\" class=\"dataframe\">\n",
       "  <thead>\n",
       "    <tr style=\"text-align: right;\">\n",
       "      <th></th>\n",
       "      <th>p1</th>\n",
       "      <th>p2</th>\n",
       "      <th>p3</th>\n",
       "      <th>p4</th>\n",
       "      <th>p5</th>\n",
       "      <th>p6</th>\n",
       "      <th>p7</th>\n",
       "      <th>p8</th>\n",
       "      <th>p9</th>\n",
       "      <th>p10</th>\n",
       "      <th>p11</th>\n",
       "    </tr>\n",
       "    <tr>\n",
       "      <th>day_cycle_window</th>\n",
       "      <th></th>\n",
       "      <th></th>\n",
       "      <th></th>\n",
       "      <th></th>\n",
       "      <th></th>\n",
       "      <th></th>\n",
       "      <th></th>\n",
       "      <th></th>\n",
       "      <th></th>\n",
       "      <th></th>\n",
       "      <th></th>\n",
       "    </tr>\n",
       "  </thead>\n",
       "  <tbody>\n",
       "    <tr>\n",
       "      <th>1_1_1</th>\n",
       "      <td>0.591155</td>\n",
       "      <td>0.739638</td>\n",
       "      <td>0.661250</td>\n",
       "      <td>0.631763</td>\n",
       "      <td>0.688777</td>\n",
       "      <td>0.741959</td>\n",
       "      <td>0.666670</td>\n",
       "      <td>0.771232</td>\n",
       "      <td>0.246201</td>\n",
       "      <td>0.673869</td>\n",
       "      <td>0.724468</td>\n",
       "    </tr>\n",
       "    <tr>\n",
       "      <th>1_1_10</th>\n",
       "      <td>0.245958</td>\n",
       "      <td>0.242592</td>\n",
       "      <td>0.230089</td>\n",
       "      <td>0.206792</td>\n",
       "      <td>0.159972</td>\n",
       "      <td>0.263903</td>\n",
       "      <td>0.235525</td>\n",
       "      <td>0.268986</td>\n",
       "      <td>0.000000</td>\n",
       "      <td>0.007340</td>\n",
       "      <td>0.211292</td>\n",
       "    </tr>\n",
       "    <tr>\n",
       "      <th>1_1_11</th>\n",
       "      <td>0.133627</td>\n",
       "      <td>0.132878</td>\n",
       "      <td>0.123037</td>\n",
       "      <td>0.118335</td>\n",
       "      <td>0.100332</td>\n",
       "      <td>0.148944</td>\n",
       "      <td>0.130108</td>\n",
       "      <td>0.155183</td>\n",
       "      <td>0.000000</td>\n",
       "      <td>0.007835</td>\n",
       "      <td>0.121043</td>\n",
       "    </tr>\n",
       "    <tr>\n",
       "      <th>1_1_12</th>\n",
       "      <td>0.089126</td>\n",
       "      <td>0.077160</td>\n",
       "      <td>0.074458</td>\n",
       "      <td>0.079167</td>\n",
       "      <td>0.084962</td>\n",
       "      <td>0.095682</td>\n",
       "      <td>0.085289</td>\n",
       "      <td>0.105400</td>\n",
       "      <td>0.000000</td>\n",
       "      <td>0.008146</td>\n",
       "      <td>0.068842</td>\n",
       "    </tr>\n",
       "    <tr>\n",
       "      <th>1_1_13</th>\n",
       "      <td>0.006691</td>\n",
       "      <td>0.004849</td>\n",
       "      <td>0.003302</td>\n",
       "      <td>0.007130</td>\n",
       "      <td>0.014593</td>\n",
       "      <td>0.007426</td>\n",
       "      <td>0.008084</td>\n",
       "      <td>0.010889</td>\n",
       "      <td>0.000000</td>\n",
       "      <td>0.008337</td>\n",
       "      <td>0.005184</td>\n",
       "    </tr>\n",
       "    <tr>\n",
       "      <th>...</th>\n",
       "      <td>...</td>\n",
       "      <td>...</td>\n",
       "      <td>...</td>\n",
       "      <td>...</td>\n",
       "      <td>...</td>\n",
       "      <td>...</td>\n",
       "      <td>...</td>\n",
       "      <td>...</td>\n",
       "      <td>...</td>\n",
       "      <td>...</td>\n",
       "      <td>...</td>\n",
       "    </tr>\n",
       "    <tr>\n",
       "      <th>4_4_95</th>\n",
       "      <td>0.024870</td>\n",
       "      <td>0.017500</td>\n",
       "      <td>0.042047</td>\n",
       "      <td>0.058579</td>\n",
       "      <td>0.058948</td>\n",
       "      <td>0.120202</td>\n",
       "      <td>0.202204</td>\n",
       "      <td>0.010164</td>\n",
       "      <td>0.017615</td>\n",
       "      <td>0.003797</td>\n",
       "      <td>0.015195</td>\n",
       "    </tr>\n",
       "    <tr>\n",
       "      <th>4_4_96</th>\n",
       "      <td>0.039166</td>\n",
       "      <td>0.078148</td>\n",
       "      <td>0.040230</td>\n",
       "      <td>0.069748</td>\n",
       "      <td>0.050877</td>\n",
       "      <td>0.065390</td>\n",
       "      <td>0.133130</td>\n",
       "      <td>0.030967</td>\n",
       "      <td>0.021108</td>\n",
       "      <td>0.139863</td>\n",
       "      <td>0.039959</td>\n",
       "    </tr>\n",
       "    <tr>\n",
       "      <th>4_4_97</th>\n",
       "      <td>0.018503</td>\n",
       "      <td>0.016327</td>\n",
       "      <td>0.031847</td>\n",
       "      <td>0.017862</td>\n",
       "      <td>0.079308</td>\n",
       "      <td>0.056104</td>\n",
       "      <td>0.072997</td>\n",
       "      <td>0.077657</td>\n",
       "      <td>0.011513</td>\n",
       "      <td>0.002561</td>\n",
       "      <td>0.006298</td>\n",
       "    </tr>\n",
       "    <tr>\n",
       "      <th>4_4_98</th>\n",
       "      <td>0.027789</td>\n",
       "      <td>0.052066</td>\n",
       "      <td>0.071430</td>\n",
       "      <td>0.047925</td>\n",
       "      <td>0.095903</td>\n",
       "      <td>0.090053</td>\n",
       "      <td>0.061921</td>\n",
       "      <td>0.094790</td>\n",
       "      <td>0.012011</td>\n",
       "      <td>0.529450</td>\n",
       "      <td>0.054358</td>\n",
       "    </tr>\n",
       "    <tr>\n",
       "      <th>4_4_99</th>\n",
       "      <td>0.015669</td>\n",
       "      <td>0.037665</td>\n",
       "      <td>0.015105</td>\n",
       "      <td>0.017434</td>\n",
       "      <td>0.087713</td>\n",
       "      <td>0.084114</td>\n",
       "      <td>0.079985</td>\n",
       "      <td>0.044472</td>\n",
       "      <td>0.032507</td>\n",
       "      <td>0.002795</td>\n",
       "      <td>0.021494</td>\n",
       "    </tr>\n",
       "  </tbody>\n",
       "</table>\n",
       "<p>1637 rows × 11 columns</p>\n",
       "</div>"
      ],
      "text/plain": [
       "                        p1        p2        p3        p4        p5        p6  \\\n",
       "day_cycle_window                                                               \n",
       "1_1_1             0.591155  0.739638  0.661250  0.631763  0.688777  0.741959   \n",
       "1_1_10            0.245958  0.242592  0.230089  0.206792  0.159972  0.263903   \n",
       "1_1_11            0.133627  0.132878  0.123037  0.118335  0.100332  0.148944   \n",
       "1_1_12            0.089126  0.077160  0.074458  0.079167  0.084962  0.095682   \n",
       "1_1_13            0.006691  0.004849  0.003302  0.007130  0.014593  0.007426   \n",
       "...                    ...       ...       ...       ...       ...       ...   \n",
       "4_4_95            0.024870  0.017500  0.042047  0.058579  0.058948  0.120202   \n",
       "4_4_96            0.039166  0.078148  0.040230  0.069748  0.050877  0.065390   \n",
       "4_4_97            0.018503  0.016327  0.031847  0.017862  0.079308  0.056104   \n",
       "4_4_98            0.027789  0.052066  0.071430  0.047925  0.095903  0.090053   \n",
       "4_4_99            0.015669  0.037665  0.015105  0.017434  0.087713  0.084114   \n",
       "\n",
       "                        p7        p8        p9       p10       p11  \n",
       "day_cycle_window                                                    \n",
       "1_1_1             0.666670  0.771232  0.246201  0.673869  0.724468  \n",
       "1_1_10            0.235525  0.268986  0.000000  0.007340  0.211292  \n",
       "1_1_11            0.130108  0.155183  0.000000  0.007835  0.121043  \n",
       "1_1_12            0.085289  0.105400  0.000000  0.008146  0.068842  \n",
       "1_1_13            0.008084  0.010889  0.000000  0.008337  0.005184  \n",
       "...                    ...       ...       ...       ...       ...  \n",
       "4_4_95            0.202204  0.010164  0.017615  0.003797  0.015195  \n",
       "4_4_96            0.133130  0.030967  0.021108  0.139863  0.039959  \n",
       "4_4_97            0.072997  0.077657  0.011513  0.002561  0.006298  \n",
       "4_4_98            0.061921  0.094790  0.012011  0.529450  0.054358  \n",
       "4_4_99            0.079985  0.044472  0.032507  0.002795  0.021494  \n",
       "\n",
       "[1637 rows x 11 columns]"
      ]
     },
     "execution_count": 5,
     "metadata": {},
     "output_type": "execute_result"
    }
   ],
   "source": [
    "# Mean value of each parameter in each window\n",
    "mean_per_window = df.groupby([\"day_cycle_window\"]).mean()\n",
    "mean_per_window\n",
    "\n",
    "# MAD of each parameter in each window\n",
    "mad_per_window = df.groupby([\"day_cycle_window\"]).mad()\n",
    "mad_per_window\n",
    "\n",
    "# Standard deviation of each parameter in each window\n",
    "std_per_window = df.groupby([\"day_cycle_window\"]).std()\n",
    "std_per_window"
   ]
  },
  {
   "cell_type": "markdown",
   "metadata": {},
   "source": [
    "#  Outlier detection on three statistics with a simple method"
   ]
  },
  {
   "cell_type": "markdown",
   "metadata": {},
   "source": [
    "## Isolation Forest"
   ]
  },
  {
   "cell_type": "code",
   "execution_count": 7,
   "metadata": {
    "scrolled": true
   },
   "outputs": [
    {
     "name": "stderr",
     "output_type": "stream",
     "text": [
      "D:\\Anaconda3\\lib\\site-packages\\sklearn\\ensemble\\_iforest.py:248: FutureWarning: 'behaviour' is deprecated in 0.22 and will be removed in 0.24. You should not pass or set this parameter.\n",
      "  FutureWarning\n",
      "D:\\Anaconda3\\lib\\site-packages\\sklearn\\ensemble\\_iforest.py:248: FutureWarning: 'behaviour' is deprecated in 0.22 and will be removed in 0.24. You should not pass or set this parameter.\n",
      "  FutureWarning\n",
      "D:\\Anaconda3\\lib\\site-packages\\sklearn\\ensemble\\_iforest.py:248: FutureWarning: 'behaviour' is deprecated in 0.22 and will be removed in 0.24. You should not pass or set this parameter.\n",
      "  FutureWarning\n"
     ]
    },
    {
     "name": "stdout",
     "output_type": "stream",
     "text": [
      "(246, 11) (246, 11) (246, 11)\n"
     ]
    }
   ],
   "source": [
    "##### Isolation Forest\n",
    "\n",
    "from sklearn.ensemble import IsolationForest\n",
    "\n",
    "iso = IsolationForest(behaviour='new', n_estimators=100, max_samples=8, contamination=0.15)\n",
    "\n",
    "\n",
    "## mean_per_window\n",
    "iso_mean_pred = iso.fit_predict(mean_per_window)\n",
    "\n",
    "mean_per_window_normal_1 = mean_per_window[iso_mean_pred == 1]\n",
    "mean_per_window_outlier_1 = mean_per_window[iso_mean_pred == -1]\n",
    "\n",
    "mean_per_window_outlier_1\n",
    "\n",
    "\n",
    "## mad_per_window\n",
    "iso_mad_pred = iso.fit_predict(mad_per_window)\n",
    "\n",
    "mad_per_window_normal_1 = mad_per_window[iso_mad_pred == 1]\n",
    "mad_per_window_outlier_1 = mad_per_window[iso_mad_pred == -1]\n",
    "\n",
    "mad_per_window_outlier_1\n",
    "\n",
    "\n",
    "## std_per_window\n",
    "iso_std_pred = iso.fit_predict(std_per_window)\n",
    "\n",
    "std_per_window_normal_1 = std_per_window[iso_std_pred == 1]\n",
    "std_per_window_outlier_1 = std_per_window[iso_std_pred == -1]\n",
    "\n",
    "std_per_window_outlier_1\n",
    "\n",
    "\n",
    "##### Compare the three statistics\n",
    "print(mean_per_window_outlier_1.shape, mad_per_window_outlier_1.shape, std_per_window_outlier_1.shape)"
   ]
  },
  {
   "cell_type": "markdown",
   "metadata": {},
   "source": [
    "<div class=\"alert alert-danger\">\n",
    "\n",
    "**Attention :**\n",
    "    \n",
    "在Isolation Forest中，虽然三种统计量检测出来的异常值的个数是一样的，但是异常值对应的window不完全相同，尤其mean与其他两个的window差别较大。\n",
    "下面两种方法单独使用时也是同样的情况。\n",
    "\n",
    "</div>"
   ]
  },
  {
   "cell_type": "markdown",
   "metadata": {},
   "source": [
    "## Local Outlier Factor"
   ]
  },
  {
   "cell_type": "code",
   "execution_count": 165,
   "metadata": {},
   "outputs": [
    {
     "name": "stdout",
     "output_type": "stream",
     "text": [
      "(246, 11) (246, 11) (246, 11)\n"
     ]
    }
   ],
   "source": [
    "##### Local Outlier Factor\n",
    "\n",
    "from sklearn.neighbors import LocalOutlierFactor\n",
    "\n",
    "lof = LocalOutlierFactor(n_neighbors=5, contamination=0.15, novelty=False)\n",
    "\n",
    "\n",
    "## mean_per_window\n",
    "lof_pred = lof.fit_predict(mean_per_window)\n",
    "\n",
    "mean_per_window_normal_2 = mean_per_window[lof_pred == 1]\n",
    "mean_per_window_outlier_2 = mean_per_window[lof_pred == -1]\n",
    "\n",
    "mean_per_window_outlier_2\n",
    "\n",
    "## mad_per_window\n",
    "lof_mad_pred = lof.fit_predict(mad_per_window)\n",
    "\n",
    "mad_per_window_normal_2 = mad_per_window[lof_mad_pred == 1]\n",
    "mad_per_window_outlier_2 = mad_per_window[lof_mad_pred == -1]\n",
    "\n",
    "mad_per_window_outlier_2\n",
    "\n",
    "\n",
    "## std_per_window\n",
    "lof_std_pred = lof.fit_predict(std_per_window)\n",
    "\n",
    "std_per_window_normal_2 = std_per_window[lof_std_pred == 1]\n",
    "std_per_window_outlier_2 = std_per_window[lof_std_pred == -1]\n",
    "\n",
    "std_per_window_outlier_2\n",
    "\n",
    "\n",
    "##### Compare the three statistics\n",
    "print(mean_per_window_outlier_2.shape, mad_per_window_outlier_2.shape, std_per_window_outlier_2.shape)"
   ]
  },
  {
   "cell_type": "markdown",
   "metadata": {},
   "source": [
    "## One Class SVM"
   ]
  },
  {
   "cell_type": "code",
   "execution_count": 166,
   "metadata": {},
   "outputs": [
    {
     "name": "stdout",
     "output_type": "stream",
     "text": [
      "(253, 11) (246, 11) (247, 11)\n"
     ]
    }
   ],
   "source": [
    "##### One Class SVM\n",
    "\n",
    "from sklearn.svm import OneClassSVM\n",
    "\n",
    "ocsvm = OneClassSVM(nu=0.15, kernel=\"rbf\", gamma=0.3) # nu corresponds to contamination\n",
    "\n",
    "## mean_per_window\n",
    "ocsvm_pred = ocsvm.fit_predict(mean_per_window)\n",
    "\n",
    "mean_per_window_normal_3 = mean_per_window[ocsvm_pred == 1]\n",
    "mean_per_window_outlier_3 = mean_per_window[ocsvm_pred == -1]\n",
    "\n",
    "mean_per_window_outlier_3\n",
    "\n",
    "## mad_per_window\n",
    "ocsvm_mad_pred = ocsvm.fit_predict(mad_per_window)\n",
    "\n",
    "mad_per_window_normal_3 = mad_per_window[ocsvm_mad_pred == 1]\n",
    "mad_per_window_outlier_3 = mad_per_window[ocsvm_mad_pred == -1]\n",
    "\n",
    "mad_per_window_outlier_3\n",
    "\n",
    "\n",
    "## std_per_window\n",
    "ocsvm_std_pred = ocsvm.fit_predict(std_per_window)\n",
    "\n",
    "std_per_window_normal_3 = std_per_window[ocsvm_std_pred == 1]\n",
    "std_per_window_outlier_3 = std_per_window[ocsvm_std_pred == -1]\n",
    "\n",
    "std_per_window_outlier_3\n",
    "\n",
    "\n",
    "##### Compare the three statistics\n",
    "print(mean_per_window_outlier_3.shape, mad_per_window_outlier_3.shape, std_per_window_outlier_3.shape)"
   ]
  },
  {
   "cell_type": "markdown",
   "metadata": {},
   "source": [
    "#  Outlier detection on MAD with PCA + one other method"
   ]
  },
  {
   "cell_type": "markdown",
   "metadata": {},
   "source": [
    "## PCA + Isolation Forest"
   ]
  },
  {
   "cell_type": "code",
   "execution_count": 167,
   "metadata": {},
   "outputs": [
    {
     "name": "stdout",
     "output_type": "stream",
     "text": [
      "PCA ratio = 0.8112183962874294\n"
     ]
    },
    {
     "name": "stderr",
     "output_type": "stream",
     "text": [
      "D:\\Anaconda3\\lib\\site-packages\\sklearn\\ensemble\\_iforest.py:248: FutureWarning: 'behaviour' is deprecated in 0.22 and will be removed in 0.24. You should not pass or set this parameter.\n",
      "  FutureWarning\n"
     ]
    },
    {
     "name": "stdout",
     "output_type": "stream",
     "text": [
      "scores_pred = [-0.05253583 -0.00069738  0.07785072 ...  0.12612386  0.0283828\n",
      "  0.12917408]\n",
      "lenth of scores_pred = 1637\n"
     ]
    },
    {
     "data": {
      "text/plain": [
       "<matplotlib.collections.PathCollection at 0x26e0eb0cbc8>"
      ]
     },
     "execution_count": 167,
     "metadata": {},
     "output_type": "execute_result"
    },
    {
     "data": {
      "image/png": "[encoded data removed]",
      "text/plain": [
       "<Figure size 432x288 with 1 Axes>"
      ]
     },
     "metadata": {
      "needs_background": "light"
     },
     "output_type": "display_data"
    }
   ],
   "source": [
    "##### PCA + Isolation Forest\n",
    "from sklearn.decomposition import PCA\n",
    "from sklearn.ensemble import IsolationForest\n",
    "\n",
    "## PCA dimensionality reduction on 'mad_per_window'\n",
    "pca = PCA(n_components = 2)\n",
    "pca.fit(mad_per_window)\n",
    "X = pca.transform(mad_per_window)\n",
    "print(f'PCA ratio = {sum(pca.explained_variance_ratio_)}')\n",
    "\n",
    "## Outlier detection with Isolation Forest\n",
    "iso_new = IsolationForest(behaviour='new', n_estimators=100, max_samples=8, contamination=0.15)\n",
    "iso_new_mad_pred = iso_new.fit_predict(X)\n",
    "\n",
    "scores_pred = iso_new.decision_function(X)\n",
    "print(f'scores_pred = {scores_pred}')\n",
    "print(f'lenth of scores_pred = {len(scores_pred)}')\n",
    "\n",
    "\n",
    "## Manually define the proportion of outliers\n",
    "percent = 0.03\n",
    "i = np.int(percent * X.shape[0])\n",
    "\n",
    "scores_pred[scores_pred < max(sorted(scores_pred)[:i])]\n",
    "index = np.argsort(scores_pred)[:i]\n",
    "# mad_per_window.iloc[index]\n",
    "\n",
    "\n",
    "plt.figure()\n",
    "plt.scatter(X[:,0], X[:,1], alpha=.4)\n",
    "plt.scatter(X[index][:,0], X[index][:,1], alpha=.4)"
   ]
  },
  {
   "cell_type": "markdown",
   "metadata": {},
   "source": [
    "## PCA + LocalOutlierFactor"
   ]
  },
  {
   "cell_type": "code",
   "execution_count": 168,
   "metadata": {},
   "outputs": [
    {
     "name": "stdout",
     "output_type": "stream",
     "text": [
      "PCA ratio = 0.811218396287429\n"
     ]
    },
    {
     "ename": "AttributeError",
     "evalue": "'LocalOutlierFactor' object has no attribute 'negative_outlier_factor_'",
     "output_type": "error",
     "traceback": [
      "\u001b[1;31m---------------------------------------------------------------------------\u001b[0m",
      "\u001b[1;31mAttributeError\u001b[0m                            Traceback (most recent call last)",
      "\u001b[1;32m<ipython-input-168-e3bd5070e0fd>\u001b[0m in \u001b[0;36m<module>\u001b[1;34m\u001b[0m\n\u001b[0;32m     14\u001b[0m \u001b[0mlof_new_mad_pred\u001b[0m \u001b[1;33m=\u001b[0m \u001b[0mlof\u001b[0m\u001b[1;33m.\u001b[0m\u001b[0mfit_predict\u001b[0m\u001b[1;33m(\u001b[0m\u001b[0mX\u001b[0m\u001b[1;33m)\u001b[0m\u001b[1;33m\u001b[0m\u001b[1;33m\u001b[0m\u001b[0m\n\u001b[0;32m     15\u001b[0m \u001b[1;33m\u001b[0m\u001b[0m\n\u001b[1;32m---> 16\u001b[1;33m \u001b[0mscores_pred\u001b[0m \u001b[1;33m=\u001b[0m \u001b[0mlof_new\u001b[0m\u001b[1;33m.\u001b[0m\u001b[0mnegative_outlier_factor_\u001b[0m\u001b[1;33m\u001b[0m\u001b[1;33m\u001b[0m\u001b[0m\n\u001b[0m\u001b[0;32m     17\u001b[0m \u001b[0mprint\u001b[0m\u001b[1;33m(\u001b[0m\u001b[1;34mf'scores_pred = {scores_pred}'\u001b[0m\u001b[1;33m)\u001b[0m\u001b[1;33m\u001b[0m\u001b[1;33m\u001b[0m\u001b[0m\n\u001b[0;32m     18\u001b[0m \u001b[0mprint\u001b[0m\u001b[1;33m(\u001b[0m\u001b[1;34mf'lenth of scores_pred = {len(scores_pred)}'\u001b[0m\u001b[1;33m)\u001b[0m\u001b[1;33m\u001b[0m\u001b[1;33m\u001b[0m\u001b[0m\n",
      "\u001b[1;31mAttributeError\u001b[0m: 'LocalOutlierFactor' object has no attribute 'negative_outlier_factor_'"
     ]
    }
   ],
   "source": [
    "##### PCA + Local Outlier Factor\n",
    "\n",
    "from sklearn.decomposition import PCA\n",
    "from sklearn.neighbors import LocalOutlierFactor\n",
    "\n",
    "## PCA dimensionality reduction on 'mad_per_window'\n",
    "pca = PCA(n_components = 2)\n",
    "pca.fit(mad_per_window)\n",
    "X = pca.transform(mad_per_window)\n",
    "print(f'PCA ratio = {sum(pca.explained_variance_ratio_)}')\n",
    "\n",
    "## Outlier detection with Local Outlier Factor\n",
    "lof_new = LocalOutlierFactor(n_neighbors=5, contamination=0.15, novelty=False)\n",
    "lof_new_mad_pred = lof.fit_predict(X)\n",
    "\n",
    "scores_pred = lof_new.negative_outlier_factor_\n",
    "print(f'scores_pred = {scores_pred}')\n",
    "print(f'lenth of scores_pred = {len(scores_pred)}')\n",
    "\n",
    "\n",
    "## Manually define the proportion of outliers\n",
    "percent = 0.03\n",
    "i = np.int(percent * X.shape[0])\n",
    "\n",
    "scores_pred[scores_pred < max(sorted(scores_pred)[:i])]\n",
    "index = np.argsort(scores_pred)[:i]\n",
    "# mad_per_window.iloc[index]\n",
    "\n",
    "\n",
    "plt.figure()\n",
    "plt.scatter(X[:,0], X[:,1], alpha=.4)\n",
    "plt.scatter(X[index][:,0], X[index][:,1], alpha=.4)"
   ]
  },
  {
   "cell_type": "markdown",
   "metadata": {},
   "source": [
    "<div class=\"alert alert-danger\">\n",
    "\n",
    "**Attention :**\n",
    "    \n",
    "在scikit learn的user guide中，明确表示LocalOutlierFactor模型有参数'negative_outlier_factor_'，用来表示每个数据为异常值的概率值，但是不知道为啥这里报错说不存在这个参数。很奇怪。。。我还没找到解决办法 ;-(\n",
    "    \n",
    "</div>"
   ]
  },
  {
   "cell_type": "markdown",
   "metadata": {},
   "source": [
    "## PCA + OneClassSVM"
   ]
  },
  {
   "cell_type": "code",
   "execution_count": 171,
   "metadata": {},
   "outputs": [
    {
     "name": "stdout",
     "output_type": "stream",
     "text": [
      "PCA ratio = 0.8112183962874296\n",
      "scores_pred = [-23.0276782   10.04988802   8.16656694 ...   2.8464771    1.24047967\n",
      "   3.43034315]\n",
      "lenth of scores_pred = 1637\n"
     ]
    },
    {
     "data": {
      "text/plain": [
       "<matplotlib.collections.PathCollection at 0x26e0e818d08>"
      ]
     },
     "execution_count": 171,
     "metadata": {},
     "output_type": "execute_result"
    },
    {
     "data": {
      "image/png": "[encoded data removed]",
      "text/plain": [
       "<Figure size 432x288 with 1 Axes>"
      ]
     },
     "metadata": {
      "needs_background": "light"
     },
     "output_type": "display_data"
    }
   ],
   "source": [
    "##### PCA + One Class SVM\n",
    "\n",
    "from sklearn.decomposition import PCA\n",
    "from sklearn.svm import OneClassSVM\n",
    "\n",
    "## PCA dimensionality reduction on 'mad_per_window'\n",
    "pca = PCA(n_components = 2)\n",
    "pca.fit(mad_per_window)\n",
    "X = pca.transform(mad_per_window)\n",
    "print(f'PCA ratio = {sum(pca.explained_variance_ratio_)}')\n",
    "\n",
    "## Outlier detection with One Class SVM\n",
    "ocsvm_new = OneClassSVM(nu=0.15, kernel=\"rbf\", gamma=0.3) # nu corresponds to contamination\n",
    "ocsvm_new_mad_pred = ocsvm_new.fit_predict(X)\n",
    "\n",
    "scores_pred = ocsvm_new.decision_function(X)\n",
    "print(f'scores_pred = {scores_pred}')\n",
    "print(f'lenth of scores_pred = {len(scores_pred)}')\n",
    "\n",
    "\n",
    "## Manually define the proportion of outliers\n",
    "percent = 0.015\n",
    "i = np.int(percent * X.shape[0])\n",
    "\n",
    "scores_pred[scores_pred < max(sorted(scores_pred)[:i])]\n",
    "index = np.argsort(scores_pred)[:i]\n",
    "# mad_per_window.iloc[index]\n",
    "\n",
    "\n",
    "plt.figure()\n",
    "plt.scatter(X[:,0], X[:,1], alpha=.4)\n",
    "plt.scatter(X[index][:,0], X[index][:,1], alpha=.4)"
   ]
  },
  {
   "cell_type": "markdown",
   "metadata": {},
   "source": [
    "<div class=\"alert alert-success\">\n",
    "\n",
    "**Comparison of the three methods \"PCA + xxx\" :**\n",
    "\n",
    "- According to scikit-learn section 2.7, IsolationForest and LocalOutlierFactor perform reasonably well on the data sets. The OneClassSVM is known to be sensitive to outliers and thus does not perform very well for outlier detection.\n",
    "    \n",
    "- However, after reducing the dimension of the dataset with PCA, we visualize outliers using these three methods respectively, it can be found that when we manually define a smaller outlier ratio, OneClassSVM shows better performance that it can detect more accurately the outliers at the extreme edges.\n",
    "    \n",
    "</div>"
   ]
  },
  {
   "cell_type": "markdown",
   "metadata": {},
   "source": [
    "# Plot Anomalies"
   ]
  },
  {
   "cell_type": "code",
   "execution_count": 180,
   "metadata": {},
   "outputs": [
    {
     "data": {
      "image/png": "[encoded data removed]",
      "text/plain": [
       "<Figure size 432x288 with 1 Axes>"
      ]
     },
     "metadata": {
      "needs_background": "light"
     },
     "output_type": "display_data"
    },
    {
     "data": {
      "image/png": "[encoded data removed]",
      "text/plain": [
       "<Figure size 432x288 with 1 Axes>"
      ]
     },
     "metadata": {
      "needs_background": "light"
     },
     "output_type": "display_data"
    },
    {
     "data": {
      "image/png": "[encoded data removed]",
      "text/plain": [
       "<Figure size 432x288 with 1 Axes>"
      ]
     },
     "metadata": {
      "needs_background": "light"
     },
     "output_type": "display_data"
    }
   ],
   "source": [
    "# transforme ndarray to dataframe\n",
    "X_df = pd.DataFrame(X)\n",
    "X_df.columns = ['X1', 'X2']\n",
    "\n",
    "# plot\n",
    "clf_name = 'Isolation Forest'\n",
    "clf = iso_new\n",
    "plotAnomalies2D(X_df, clf_name, clf)\n",
    "\n",
    "clf_name = 'LOF'\n",
    "clf = lof_new\n",
    "plotAnomalies2D(X_df, clf_name, clf)\n",
    "\n",
    "clf_name = 'One Class SVM'\n",
    "clf = ocsvm_new\n",
    "plotAnomalies2D(X_df, clf_name, clf)"
   ]
  },
  {
   "cell_type": "markdown",
   "metadata": {},
   "source": [
    "<div class=\"alert alert-danger\">\n",
    "\n",
    "**Note :**\n",
    "    \n",
    "（这里的三个Anomaly的图我没太看懂应该怎么去分析。。。\n",
    "    \n",
    "</div>"
   ]
  },
  {
   "cell_type": "markdown",
   "metadata": {},
   "source": [
    "# Plot anomaly score"
   ]
  },
  {
   "cell_type": "code",
   "execution_count": 181,
   "metadata": {},
   "outputs": [
    {
     "data": {
      "image/png": "[encoded data removed]",
      "text/plain": [
       "<Figure size 432x288 with 2 Axes>"
      ]
     },
     "metadata": {
      "needs_background": "light"
     },
     "output_type": "display_data"
    },
    {
     "data": {
      "image/png": "[encoded data removed]",
      "text/plain": [
       "<Figure size 432x288 with 2 Axes>"
      ]
     },
     "metadata": {
      "needs_background": "light"
     },
     "output_type": "display_data"
    },
    {
     "data": {
      "image/png": "[encoded data removed]",
      "text/plain": [
       "<Figure size 432x288 with 2 Axes>"
      ]
     },
     "metadata": {
      "needs_background": "light"
     },
     "output_type": "display_data"
    }
   ],
   "source": [
    "# transforme ndarray to dataframe\n",
    "X_df = pd.DataFrame(X)\n",
    "X_df.columns = ['X1', 'X2']\n",
    "\n",
    "# plot\n",
    "clf_name = 'Isolation Forest'\n",
    "clf = iso_new\n",
    "plotAnomalyScore2D(X_df, clf_name, clf)\n",
    "\n",
    "clf_name = 'LOF'\n",
    "clf = lof_new\n",
    "plotAnomalyScore2D(X_df, clf_name, clf)\n",
    "\n",
    "clf_name = 'One Class SVM'\n",
    "clf = ocsvm_new\n",
    "plotAnomalyScore2D(X_df, clf_name, clf)"
   ]
  },
  {
   "cell_type": "markdown",
   "metadata": {},
   "source": [
    "<div class=\"alert alert-success\">\n",
    "\n",
    "**Comparison of anomaly score :**\n",
    "\n",
    "From the comparison of the above three anomaly score graphs, it can be seen that the detection performance of method PCA + OneClassSVM is the best.\n",
    "    \n",
    "</div>"
   ]
  },
  {
   "cell_type": "markdown",
   "metadata": {},
   "source": [
    "# My draft (will be deleted later)..."
   ]
  },
  {
   "cell_type": "code",
   "execution_count": 183,
   "metadata": {},
   "outputs": [],
   "source": [
    "from scipy import stats \n",
    "\n",
    "scores_pred = iso.decision_function(mad_per_window)\n",
    "print(f'scores_pred = {scores_pred}')\n",
    "print(f'lenth of scores_pred = {len(scores_pred)}')\n",
    "\n",
    "outliers_fraction = 0.15\n",
    "threshold = stats.scoreatpercentile(scores_pred, 100 * outliers_fraction) \n",
    "print(f'threshold = {threshold}')\n",
    "\n",
    "print(f'argmin(scores_pred) = {np.argmin(scores_pred)}')\n",
    "print(f'min(scores_pred) = {min(scores_pred)}')\n",
    "print(mad_per_window.iloc[1324])\n",
    "\n",
    "print(scores_pred)\n",
    "print(sorted(scores_pred)[:5])\n",
    "np.argsort(scores_pred)[:5]"
   ]
  }
 ],
 "metadata": {
  "kernelspec": {
   "display_name": "Python 3",
   "language": "python",
   "name": "python3"
  },
  "language_info": {
   "codemirror_mode": {
    "name": "ipython",
    "version": 3
   },
   "file_extension": ".py",
   "mimetype": "text/x-python",
   "name": "python",
   "nbconvert_exporter": "python",
   "pygments_lexer": "ipython3",
   "version": "3.7.6"
  }
 },
 "nbformat": 4,
 "nbformat_minor": 4
}
