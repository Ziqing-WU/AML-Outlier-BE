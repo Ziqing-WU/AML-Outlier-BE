{
 "cells": [
  {
   "cell_type": "markdown",
   "metadata": {},
   "source": [
    "Anomaly Detection - Algorithms in Machine Learning\n",
    "\n",
    "Table of contents:\n",
    "1. [Context](#sec1)\n",
    "2. [Problem formulation](#sec2)\n",
    "    1. [First data investigation](#sec2-1)\n",
    "    2. [Problem description](#sec2-2)\n",
    "  \n",
    "3. [Methods](#sec3)\n",
    "4. [Results](#sec4)\n",
    "5. [Conclusion](#sec5)\n",
    "    1. [Anomaly detection](#sec5-1)\n",
    "    2. [Open questions](#sec5-2)\n",
    "\n",
    "## 1. <a id=\"sec1\"></a>Context\n",
    "\n",
    "Aircraft systems are recording values of parameters such as speed, temperature, pressure, electrical current values... \n",
    "\n",
    "The measures are divided into sections of window. Each window contains 100 measure points. The window is the smallest unit of sections. Beyond this, each cycle contains several windows and each day contains several cycles. \n",
    "\n",
    "The dataset contains 162702 lines and 12 colomns with 11 parameters and 1 label \"day_cycle_window\".\n",
    "\n",
    "With this dataset, an aircraft system expert is searching for the help of data scientist to \"build an algorithm to detect windows that are abnormal\".\n",
    "\n",
    "## 2. <a id=\"sec2\"></a>Problem formulation\n",
    "\n",
    "Data scientists need to have a global understanding of the data to be able to provide the appropriate formulation of the problem. The first question that we ask is how to summerize information on the window scale based on the fact that we have 100 data points for each window. The second question is that what kind of anomalies that we are facing and how to define anomalies. The last step is to discuss with the expert, in order to show them what information can we get from the provided data and what supplementary information that we need to identify the \"anomalies\".\n"
   ]
  },
  {
   "cell_type": "markdown",
   "metadata": {},
   "source": [
    "### A. <a id=\"sec2-1\"></a>First data investigation\n",
    "\n",
    "Firstly, some general information needs to be provided."
   ]
  }
 ],
 "metadata": {
  "kernelspec": {
   "display_name": "Python 3",
   "language": "python",
   "name": "python3"
  },
  "language_info": {
   "codemirror_mode": {
    "name": "ipython",
    "version": 3
   },
   "file_extension": ".py",
   "mimetype": "text/x-python",
   "name": "python",
   "nbconvert_exporter": "python",
   "pygments_lexer": "ipython3",
   "version": "3.7.7"
  }
 },
 "nbformat": 4,
 "nbformat_minor": 4
}
