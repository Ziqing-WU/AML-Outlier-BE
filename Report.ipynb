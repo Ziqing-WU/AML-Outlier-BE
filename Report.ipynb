{
 "cells": [
  {
   "cell_type": "markdown",
   "metadata": {},
   "source": [
    "# Anomaly Detection - Algorithms in Machine Learning\n",
    "\n",
    "## 1. Context\n",
    "\n",
    "Aircraft systems are recording values of parameters such as speed, temperature, pressure, electrical current values... \n",
    "\n",
    "The measures are divided into sections of window. Each window contains 100 measure points. The window is the smallest unit of sections. Beyond this, each cycle contains several windows and each day contains several cycles. \n",
    "\n",
    "The dataset contains 162702 lines and 12 colomns with 11 parameters and 1 label \"day_cycle_window\".\n",
    "\n",
    "With this dataset, an aircraft system expert is searching for the help of data scientist to \"build an algorithm to detect windows that are abnormal\".\n",
    "\n",
    "## 2. Problem formulation\n",
    "\n",
    "### 2.1 First data investigation\n",
    "### 2.2 The type of anomalies"
   ]
  }
 ],
 "metadata": {
  "kernelspec": {
   "display_name": "Python 3",
   "language": "python",
   "name": "python3"
  },
  "language_info": {
   "codemirror_mode": {
    "name": "ipython",
    "version": 3
   },
   "file_extension": ".py",
   "mimetype": "text/x-python",
   "name": "python",
   "nbconvert_exporter": "python",
   "pygments_lexer": "ipython3",
   "version": "3.7.7"
  }
 },
 "nbformat": 4,
 "nbformat_minor": 4
}
